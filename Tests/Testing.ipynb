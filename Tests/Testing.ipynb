{
 "cells": [
  {
   "cell_type": "code",
   "execution_count": 15,
   "metadata": {},
   "outputs": [],
   "source": [
    "from tensor import Tensor\n",
    "from random import rand\n",
    "from memory.buffer import NDBuffer\n",
    "from memory import memset_zero\n",
    "from utils.index import Index"
   ]
  },
  {
   "cell_type": "code",
   "execution_count": 13,
   "metadata": {},
   "outputs": [],
   "source": [
    "struct Matrix[dtype: DType = DType.float32]:\n",
    "\n",
    "    var data: DTypePointer[dtype]\n",
    "    var buffer: NDBuffer[dtype, 2]\n",
    "\n",
    "    var size: Int \n",
    "    var rows: Int\n",
    "    var cols: Int \n",
    "\n",
    "    alias simd_width: Int = simdwidthof[dtype]()\n",
    "    \n",
    "    def __init__(inout self, rows: Int, cols: Int):\n",
    "\n",
    "        self.size = rows * cols\n",
    "        self.rows = rows\n",
    "        self.cols = cols\n",
    "\n",
    "        self.data = DTypePointer[dtype].alloc(self.size)\n",
    "        self.buffer = NDBuffer[dtype, 2](self.data, DimList(rows, cols))\n",
    "\n",
    "    fn _adjust_slice_(self, inout span: Slice, dim: Int):\n",
    "        \n",
    "        if span.start < 0:\n",
    "            span.start = dim + span.start\n",
    "        if not span._has_end():\n",
    "            span.end = dim\n",
    "        elif span.end < 0:\n",
    "            span.end = dim + span.end\n",
    "        if span.end > dim:\n",
    "            span.end = dim\n",
    "        if span.end < span.start:\n",
    "            span.start = 0\n",
    "            span.end = 0\n",
    "\n",
    "    fn __getitem__(self, owned row: Int, owned col_slice: Slice):\n",
    "        pass\n",
    "\n",
    "    fn __getitem__(self, owned row_slice: Slice, owned col: Int):\n",
    "\n",
    "\n",
    "    fn __getitem__(self, owned row_slice: Slice, owned col_slice: Slice):\n",
    "        pass\n",
    "\n",
    "\n",
    "    fn __del__(owned self):\n",
    "\n",
    "        self.data.free()"
   ]
  },
  {
   "cell_type": "code",
   "execution_count": 23,
   "metadata": {},
   "outputs": [],
   "source": [
    "mat = Matrix(10,10)\n",
    "mat.buffer.simd_store[4](Index(0,1), 10)"
   ]
  },
  {
   "cell_type": "code",
   "execution_count": 24,
   "metadata": {},
   "outputs": [
    {
     "name": "stdout",
     "output_type": "stream",
     "text": [
      "NDBuffer([[0.0, 10.0, 10.0, ..., 0.0, 0.0, 0.0],\n",
      "[0.0, 0.0, 0.0, ..., 0.0, 0.0, 0.0],\n",
      "[0.0, 0.0, 0.0, ..., 0.0, 0.0, 0.0],\n",
      "..., \n",
      "[0.0, 0.0, 0.0, ..., 0.0, 0.0, 0.0],\n",
      "[0.0, 0.0, 0.0, ..., 0.0, 0.0, 0.0],\n",
      "[0.0, 0.0, 0.0, ..., 0.0, 0.0, 0.0]], dtype=float32, shape=10x10)\n"
     ]
    }
   ],
   "source": [
    "print(mat.buffer)"
   ]
  }
 ],
 "metadata": {
  "kernelspec": {
   "display_name": "Mojo",
   "language": "mojo",
   "name": "mojo-jupyter-kernel"
  },
  "language_info": {
   "codemirror_mode": {
    "name": "mojo"
   },
   "file_extension": ".mojo",
   "mimetype": "text/x-mojo",
   "name": "mojo"
  }
 },
 "nbformat": 4,
 "nbformat_minor": 2
}
